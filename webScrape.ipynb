{
 "cells": [
  {
   "cell_type": "code",
   "execution_count": 3,
   "metadata": {},
   "outputs": [],
   "source": [
    "from bs4 import BeautifulSoup\n",
    "from cleantext import clean\n",
    "import requests\n",
    "import csv\n",
    "import xlwings"
   ]
  },
  {
   "cell_type": "markdown",
   "metadata": {},
   "source": [
    "Opens a CSV file and writes the headers for the columns."
   ]
  },
  {
   "cell_type": "code",
   "execution_count": 4,
   "metadata": {},
   "outputs": [],
   "source": [
    "def start_csv_file():\n",
    "    filename = \"C:/Users/john_/projects/GithubWebScrape/trending_repositories.csv\"\n",
    "    csv_file = open(file=filename, mode='w', newline='')\n",
    "    writer = csv.writer(csv_file)\n",
    "    headers = ('Repository', 'Description', 'Primary Programming Language', 'Stargazers', 'Forks', 'Stared Today')\n",
    "    writer.writerow(headers)\n",
    "    csv_file.close()"
   ]
  },
  {
   "cell_type": "markdown",
   "metadata": {},
   "source": [
    "Opens the CSV file in append mode and writes a row of data."
   ]
  },
  {
   "cell_type": "code",
   "execution_count": 5,
   "metadata": {},
   "outputs": [],
   "source": [
    "def append_to_csv(link, description, prog_lang, stars, forks, stars_today):\n",
    "    csv_file = open(file='trending_repositories.csv', mode='a', newline='')\n",
    "    writer = csv.writer(csv_file)\n",
    "    row = (link, description, prog_lang, stars, forks, stars_today)\n",
    "    writer.writerow(row)\n",
    "    csv_file.close()"
   ]
  },
  {
   "cell_type": "markdown",
   "metadata": {},
   "source": [
    "URL of the page to scrape."
   ]
  },
  {
   "cell_type": "code",
   "execution_count": 6,
   "metadata": {},
   "outputs": [],
   "source": [
    "url = 'https://github.com/trending?since=daily&spoken_language_code=en'"
   ]
  },
  {
   "cell_type": "markdown",
   "metadata": {},
   "source": [
    "Prevents the excel workbook file from appearing on screen while it executes the macro"
   ]
  },
  {
   "cell_type": "code",
   "execution_count": 7,
   "metadata": {},
   "outputs": [
    {
     "data": {
      "text/plain": [
       "<App [excel] 11200>"
      ]
     },
     "execution_count": 7,
     "metadata": {},
     "output_type": "execute_result"
    }
   ],
   "source": [
    "xlwings.App(visible=False)"
   ]
  },
  {
   "cell_type": "markdown",
   "metadata": {},
   "source": [
    "Get the HTML content of the page"
   ]
  },
  {
   "cell_type": "code",
   "execution_count": 8,
   "metadata": {},
   "outputs": [],
   "source": [
    "html_text = requests.get(url).text"
   ]
  },
  {
   "cell_type": "markdown",
   "metadata": {},
   "source": [
    "Create a BeautifulSoup object to parse the HTML"
   ]
  },
  {
   "cell_type": "code",
   "execution_count": 9,
   "metadata": {},
   "outputs": [],
   "source": [
    "soup = BeautifulSoup(html_text, 'lxml')"
   ]
  },
  {
   "cell_type": "markdown",
   "metadata": {},
   "source": [
    "Find all the repository articles on the page"
   ]
  },
  {
   "cell_type": "code",
   "execution_count": 10,
   "metadata": {},
   "outputs": [],
   "source": [
    "repositories = soup.find_all('article', {'class': 'Box-row'})"
   ]
  },
  {
   "cell_type": "markdown",
   "metadata": {},
   "source": [
    "Start the CSV file with headers"
   ]
  },
  {
   "cell_type": "code",
   "execution_count": 11,
   "metadata": {},
   "outputs": [],
   "source": [
    "start_csv_file()"
   ]
  },
  {
   "cell_type": "markdown",
   "metadata": {},
   "source": [
    "For each repository in repositories:\n",
    "    try:\n",
    "        Extract relevant information from the repository\n",
    "    except:\n",
    "        Print error message if there is insufficient data for a repository\n",
    "    else:\n",
    "        Print the extracted information and append it to the CSV file"
   ]
  },
  {
   "cell_type": "code",
   "execution_count": 12,
   "metadata": {},
   "outputs": [
    {
     "name": "stdout",
     "output_type": "stream",
     "text": [
      "\n",
      "https://github.com/coqui-ai/TTS\n",
      "Discription: - a deep learning toolkit for Text-to-Speech, battle-tested in research and production\n",
      "Primary Programming Language: Python\n",
      "Stargazers: 16,709\n",
      "Fork: 2,042\n",
      "Stars Gained Today: 1,285\n",
      "\n",
      "https://github.com/AUTOMATIC1111/stable-diffusion-webui\n",
      "Discription: Stable Diffusion web UI\n",
      "Primary Programming Language: Python\n",
      "Stargazers: 102,437\n",
      "Fork: 20,455\n",
      "Stars Gained Today: 115\n",
      "\n",
      "https://github.com/godotengine/godot-demo-projects\n",
      "Discription: Demonstration and Template Projects\n",
      "Primary Programming Language: GDScript\n",
      "Stargazers: 3,869\n",
      "Fork: 1,336\n",
      "Stars Gained Today: 65\n",
      "\n",
      "https://github.com/ripienaar/free-for-dev\n",
      "Discription: A list of SaaS, PaaS and IaaS offerings that have free tiers of interest to devops and infradev\n",
      "Primary Programming Language: HTML\n",
      "Stargazers: 73,155\n",
      "Fork: 8,030\n",
      "Stars Gained Today: 30\n",
      "\n",
      "https://github.com/SerenityOS/serenity\n",
      "Discription: The Serenity Operating System\n",
      "Primary Programming Language: C++\n",
      "Stargazers: 25,980\n",
      "Fork: 2,828\n",
      "Stars Gained Today: 12\n",
      "\n",
      "https://github.com/Dimillian/IceCubesApp\n",
      "Discription: A SwiftUI Mastodon client\n",
      "Primary Programming Language: Swift\n",
      "Stargazers: 3,551\n",
      "Fork: 326\n",
      "Stars Gained Today: 7\n",
      "\n",
      "https://github.com/shadcn-ui/taxonomy\n",
      "Discription: An open source application built using the new router, server components and everything new in Next.js 13.\n",
      "Primary Programming Language: TypeScript\n",
      "Stargazers: 15,168\n",
      "Fork: 1,917\n",
      "Stars Gained Today: 42\n",
      "\n",
      "https://github.com/neovim/neovim\n",
      "Discription: Vim-fork focused on extensibility and usability\n",
      "Primary Programming Language: Vim Script\n",
      "Stargazers: 69,486\n",
      "Fork: 4,872\n",
      "Stars Gained Today: 46\n",
      "\n",
      "https://github.com/elebumm/RedditVideoMakerBot\n",
      "Discription: Create Reddit Videos with just one command\n",
      "Primary Programming Language: Python\n",
      "Stargazers: 5,505\n",
      "Fork: 1,537\n",
      "Stars Gained Today: 6\n",
      "\n",
      "https://github.com/tiann/KernelSU\n",
      "Discription: A Kernel based root solution for Android\n",
      "Primary Programming Language: Kotlin\n",
      "Stargazers: 4,565\n",
      "Fork: 1,112\n",
      "Stars Gained Today: 7\n",
      "\n",
      "https://github.com/immich-app/immich\n",
      "Discription: Self-hosted photo and video backup solution directly from your mobile phone.\n",
      "Primary Programming Language: TypeScript\n",
      "Stargazers: 18,543\n",
      "Fork: 746\n",
      "Stars Gained Today: 37\n",
      "\n",
      "https://github.com/tailscale/tailscale\n",
      "Discription: The easiest, most secure way to use WireGuard and 2FA.\n",
      "Primary Programming Language: Go\n",
      "Stargazers: 13,512\n",
      "Fork: 959\n",
      "Stars Gained Today: 23\n",
      "\n",
      "https://github.com/invoke-ai/InvokeAI\n",
      "Discription: InvokeAI is a leading creative engine for Stable Diffusion models, empowering professionals, artists, and enthusiasts to generate and create visual media using the latest AI-driven technologies. The solution offers an industry leading WebUI, supports terminal use through a CLI, and serves as the foundation for multiple commercial products.\n",
      "Primary Programming Language: TypeScript\n",
      "Stargazers: 18,792\n",
      "Fork: 1,964\n",
      "Stars Gained Today: 12\n",
      "\n",
      "https://github.com/godotengine/godot-cpp\n",
      "Discription: C++ bindings for the Godot script API\n",
      "Primary Programming Language: C++\n",
      "Stargazers: 1,074\n",
      "Fork: 377\n",
      "Stars Gained Today: 53\n",
      "\n",
      "https://github.com/SoftEtherVPN/SoftEtherVPN\n",
      "Discription: Cross-platform multi-protocol VPN software. Pull requests are welcome. The stable version is available at https://github.com/SoftEtherVPN/SoftEtherVPN_Stable.\n",
      "Primary Programming Language: C\n",
      "Stargazers: 10,450\n",
      "Fork: 2,471\n",
      "Stars Gained Today: 6\n",
      "\n",
      "https://github.com/nextcloud/server\n",
      "Discription: Nextcloud server, a safe home for all your data\n",
      "Primary Programming Language: PHP\n",
      "Stargazers: 23,763\n",
      "Fork: 3,697\n",
      "Stars Gained Today: 9\n",
      "\n",
      "https://github.com/nvim-telescope/telescope.nvim\n",
      "Discription: Find, Filter, Preview, Pick. All lua, all the time.\n",
      "Primary Programming Language: Lua\n",
      "Stargazers: 11,248\n",
      "Fork: 675\n",
      "Stars Gained Today: 11\n",
      "\n",
      "https://github.com/DioxusLabs/dioxus\n",
      "Discription: Fullstack GUI library for desktop, web, mobile, and more.\n",
      "Primary Programming Language: Rust\n",
      "Stargazers: 13,917\n",
      "Fork: 437\n",
      "Stars Gained Today: 14\n",
      "\n",
      "https://github.com/0x192/universal-android-debloater\n",
      "Discription: Cross-platform GUI written in Rust using ADB to debloat non-rooted android devices. Improve your privacy, the security and battery life of your device.\n",
      "Primary Programming Language: Rust\n",
      "Stargazers: 11,340\n",
      "Fork: 697\n",
      "Stars Gained Today: 22\n",
      "\n",
      "https://github.com/hyprwm/Hyprland\n",
      "Discription: Hyprland is a highly customizable dynamic tiling Wayland compositor that doesn't sacrifice on its looks.\n",
      "Primary Programming Language: C++\n",
      "Stargazers: 10,863\n",
      "Fork: 395\n",
      "Stars Gained Today: 42\n",
      "\n",
      "https://github.com/NationalSecurityAgency/ghidra\n",
      "Discription: Ghidra is a software reverse engineering (SRE) framework\n",
      "Primary Programming Language: Java\n",
      "Stargazers: 42,703\n",
      "Fork: 5,187\n",
      "Stars Gained Today: 51\n",
      "\n",
      "https://github.com/easydiffusion/easydiffusion\n",
      "Discription: Easiest 1-click way to create beautiful artwork on your PC using AI, with no tech knowledge. Provides a browser UI for generating images from text prompts and images. Just enter your text prompt, and see the generated image.\n",
      "Primary Programming Language: JavaScript\n",
      "Stargazers: 7,731\n",
      "Fork: 644\n",
      "Stars Gained Today: 11\n",
      "\n",
      "https://github.com/jellyfin/jellyfin\n",
      "Discription: The Free Software Media System\n",
      "Primary Programming Language: C#\n",
      "Stargazers: 24,842\n",
      "Fork: 2,270\n",
      "Stars Gained Today: 21\n",
      "\n",
      "\n",
      "Insufficient data.. Skipping repository.\n",
      "\n",
      "\n",
      "https://github.com/MarlinFirmware/Marlin\n",
      "Discription: Marlin is an optimized firmware for RepRap 3D printers based on the Arduino platform. Many commercial 3D printers come with Marlin installed. Check with your vendor if you need source code for your specific machine.\n",
      "Primary Programming Language: C++\n",
      "Stargazers: 15,266\n",
      "Fork: 18,603\n",
      "Stars Gained Today: 61\n"
     ]
    }
   ],
   "source": [
    "for repository in repositories:\n",
    "    try:\n",
    "        url_prefix = 'https://github.com'\n",
    "        link = url_prefix + repository.h2.a['href']\n",
    "        description = repository.find('p', class_='col-9 color-fg-muted my-1 pr-4').text.strip()\n",
    "        description = clean(description, no_emoji=True, lower=False,)\n",
    "        prog_lang = repository.find('span', {'itemprop': 'programmingLanguage'}).text.strip()\n",
    "        stars_forks = repository.find_all('a', class_='Link Link--muted d-inline-block mr-3')\n",
    "        stars = stars_forks[0].text.strip()\n",
    "        forks = stars_forks[1].text.strip()\n",
    "        stars_today = repository.find('span', class_='d-inline-block float-sm-right').text.strip()\n",
    "        sub_stars_today = stars_today[0: stars_today.find(' ')]\n",
    "    except:\n",
    "        print('\\n\\nInsufficient data.. Skipping repository.\\n')\n",
    "    else:\n",
    "        print('\\n'+link)\n",
    "        print('Discription: ' + description)\n",
    "        print('Primary Programming Language: ' + prog_lang)\n",
    "        print('Stargazers: ' + stars)\n",
    "        print('Fork: ' + forks)\n",
    "        print('Stars Gained Today: ' + sub_stars_today)\n",
    "        append_to_csv(link, description, prog_lang, stars, forks, sub_stars_today)"
   ]
  },
  {
   "cell_type": "markdown",
   "metadata": {},
   "source": [
    "Open the Excel workbook and execute the macro"
   ]
  },
  {
   "cell_type": "code",
   "execution_count": 13,
   "metadata": {},
   "outputs": [],
   "source": [
    "wb = xlwings.Book('trending_repositories.xlsm')\n",
    "macro = wb.macro('Sheet1.ImportCSVData')\n",
    "macro()\n",
    "wb.save()\n",
    "wb.close()"
   ]
  }
 ],
 "metadata": {
  "kernelspec": {
   "display_name": ".venv",
   "language": "python",
   "name": "python3"
  },
  "language_info": {
   "codemirror_mode": {
    "name": "ipython",
    "version": 3
   },
   "file_extension": ".py",
   "mimetype": "text/x-python",
   "name": "python",
   "nbconvert_exporter": "python",
   "pygments_lexer": "ipython3",
   "version": "3.10.5"
  },
  "orig_nbformat": 4
 },
 "nbformat": 4,
 "nbformat_minor": 2
}
